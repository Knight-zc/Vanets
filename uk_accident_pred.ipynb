{
 "cells": [
  {
   "cell_type": "markdown",
   "id": "c864dda4-bbde-4813-abb8-a6f65dbacd62",
   "metadata": {},
   "source": [
    "# UK Accidents 分析及建模"
   ]
  },
  {
   "cell_type": "markdown",
   "id": "46147d30-0cfc-4998-aa67-6cf2b89ff8f6",
   "metadata": {},
   "source": [
    "## 导入公共库"
   ]
  },
  {
   "cell_type": "code",
   "execution_count": 1,
   "id": "ac3b4749-a813-4b82-a107-df1e84a58e2d",
   "metadata": {},
   "outputs": [],
   "source": [
    "from time import time\n",
    "import pandas as pd\n",
    "import matplotlib.pyplot as plt\n",
    "import numpy as np\n",
    "import seaborn as sns\n",
    "plt.style.use('ggplot')\n",
    "%config InlineBackend.figure_format = 'retina'\n",
    "import warnings\n",
    "warnings.filterwarnings('ignore')"
   ]
  },
  {
   "cell_type": "markdown",
   "id": "104b1a62-61df-4e12-9200-72a222a4dd1c",
   "metadata": {},
   "source": [
    "# 导入数据"
   ]
  },
  {
   "cell_type": "markdown",
   "id": "aafd3772-3422-4d26-8e97-8f1080d3ed00",
   "metadata": {},
   "source": [
    "## Accidents 事故数据"
   ]
  },
  {
   "cell_type": "code",
   "execution_count": 2,
   "id": "7953247b-35cd-4e2e-b570-130c8a0058dc",
   "metadata": {},
   "outputs": [
    {
     "name": "stdout",
     "output_type": "stream",
     "text": [
      "数据条数: 1780653, 特征数量: 31\n"
     ]
    }
   ],
   "source": [
    "accidents=pd.read_csv('./data/uk_accident/Accidents0515.csv', index_col='Accident_Index')\n",
    "print(\"数据条数: %d, 特征数量: %d\" % accidents.shape)"
   ]
  },
  {
   "cell_type": "markdown",
   "id": "2bc133a8-32dc-43c8-bf3b-535de7e6043b",
   "metadata": {},
   "source": [
    "## Vehicles 涉及事故车辆数据"
   ]
  },
  {
   "cell_type": "code",
   "execution_count": 3,
   "id": "3c7f0dd4-01fe-47e0-b738-94f51fb99cab",
   "metadata": {},
   "outputs": [
    {
     "name": "stdout",
     "output_type": "stream",
     "text": [
      "数据条数: 1780653, 特征数量: 31\n"
     ]
    }
   ],
   "source": [
    "vehicles=pd.read_csv('./data/uk_accident/Vehicles0515.csv', error_bad_lines=False, index_col='Accident_Index', warn_bad_lines=False)\n",
    "print(\"数据条数: %d, 特征数量: %d\" % accidents.shape)"
   ]
  },
  {
   "cell_type": "markdown",
   "id": "f873813d-c948-46fb-8c11-4e791fcd5bfe",
   "metadata": {},
   "source": [
    "## 连接上述两数据集\n",
    "- 通过 **Accident_Index** 索引完成"
   ]
  },
  {
   "cell_type": "code",
   "execution_count": 4,
   "id": "04da1722-96e8-4435-93bb-805e35691a90",
   "metadata": {},
   "outputs": [
    {
     "name": "stdout",
     "output_type": "stream",
     "text": [
      "连接后数据量: 3144481, 特征数量: 52\n"
     ]
    }
   ],
   "source": [
    "uk_accident=accidents.join(vehicles, how='outer')\n",
    "print(\"连接后数据量: %d, 特征数量: %d\" % uk_accident.shape)"
   ]
  },
  {
   "cell_type": "markdown",
   "id": "67f0efbf-ce08-4947-b014-1fd356d56cff",
   "metadata": {
    "tags": []
   },
   "source": [
    "# 初步机器学习"
   ]
  },
  {
   "cell_type": "markdown",
   "id": "e9abe41a-c154-4a85-b0c7-c367d2babd31",
   "metadata": {},
   "source": [
    "## 数据预处理"
   ]
  },
  {
   "cell_type": "code",
   "execution_count": 5,
   "id": "fc3b96da-9a6f-49d0-8da1-b6e148594390",
   "metadata": {},
   "outputs": [],
   "source": [
    "uk_raw_data=uk_accident.copy()"
   ]
  },
  {
   "cell_type": "markdown",
   "id": "fd4dfb46-c815-4553-95c7-fea421682781",
   "metadata": {},
   "source": [
    "### 去除不适用的特征"
   ]
  },
  {
   "cell_type": "code",
   "execution_count": 6,
   "id": "5cddc493-7c39-4c7d-bc38-eb70605a2001",
   "metadata": {},
   "outputs": [],
   "source": [
    "# 删除无用列\n",
    "uk_raw_data.drop(\n",
    "    labels=[\n",
    "        # 'Longitude',\n",
    "        # 'Latitude',\n",
    "        'Location_Easting_OSGR',\n",
    "        'Location_Northing_OSGR',\n",
    "        'Police_Force',\n",
    "        'Number_of_Vehicles',\n",
    "        'Number_of_Casualties',\n",
    "        'Date',\n",
    "        'Time',\n",
    "        'Local_Authority_(District)',\n",
    "        'Local_Authority_(Highway)',\n",
    "        '1st_Road_Number',\n",
    "        '2nd_Road_Number',\n",
    "        'Did_Police_Officer_Attend_Scene_of_Accident',\n",
    "        'LSOA_of_Accident_Location',\n",
    "        'Vehicle_Reference',\n",
    "        '1st_Point_of_Impact',\n",
    "        'Sex_of_Driver',\n",
    "        'Age_of_Driver',\n",
    "        'Age_Band_of_Driver',\n",
    "        'Was_Vehicle_Left_Hand_Drive?',\n",
    "        'Journey_Purpose_of_Driver',\n",
    "        'Driver_IMD_Decile',\n",
    "        'Driver_Home_Area_Type',\n",
    "    ],\n",
    "    axis=1,\n",
    "    inplace=True\n",
    ")"
   ]
  },
  {
   "cell_type": "code",
   "execution_count": 7,
   "id": "59b70e3b-81e9-4e49-ba2c-24fb9ca3d9cc",
   "metadata": {},
   "outputs": [
    {
     "name": "stdout",
     "output_type": "stream",
     "text": [
      "<class 'pandas.core.frame.DataFrame'>\n",
      "Index: 3144481 entries, 200501BS00001 to 2015984141415\n",
      "Data columns (total 28 columns):\n",
      " #   Column                                   Dtype  \n",
      "---  ------                                   -----  \n",
      " 0   Accident_Severity                        int64  \n",
      " 1   Day_of_Week                              int64  \n",
      " 2   1st_Road_Class                           int64  \n",
      " 3   Road_Type                                int64  \n",
      " 4   Speed_limit                              int64  \n",
      " 5   Junction_Detail                          int64  \n",
      " 6   Junction_Control                         int64  \n",
      " 7   2nd_Road_Class                           int64  \n",
      " 8   Pedestrian_Crossing-Human_Control        int64  \n",
      " 9   Pedestrian_Crossing-Physical_Facilities  int64  \n",
      " 10  Light_Conditions                         int64  \n",
      " 11  Weather_Conditions                       int64  \n",
      " 12  Road_Surface_Conditions                  int64  \n",
      " 13  Special_Conditions_at_Site               int64  \n",
      " 14  Carriageway_Hazards                      int64  \n",
      " 15  Urban_or_Rural_Area                      int64  \n",
      " 16  Vehicle_Type                             float64\n",
      " 17  Towing_and_Articulation                  float64\n",
      " 18  Vehicle_Manoeuvre                        float64\n",
      " 19  Vehicle_Location-Restricted_Lane         float64\n",
      " 20  Junction_Location                        float64\n",
      " 21  Skidding_and_Overturning                 float64\n",
      " 22  Hit_Object_in_Carriageway                float64\n",
      " 23  Vehicle_Leaving_Carriageway              float64\n",
      " 24  Hit_Object_off_Carriageway               float64\n",
      " 25  Engine_Capacity_(CC)                     float64\n",
      " 26  Propulsion_Code                          float64\n",
      " 27  Age_of_Vehicle                           float64\n",
      "dtypes: float64(12), int64(16)\n",
      "memory usage: 695.7+ MB\n"
     ]
    }
   ],
   "source": [
    "uk_raw_data.info()"
   ]
  },
  {
   "cell_type": "markdown",
   "id": "14271775-5f4a-4ad2-bf88-a24fa7056d4e",
   "metadata": {},
   "source": [
    "### 去除空数据"
   ]
  },
  {
   "cell_type": "code",
   "execution_count": 8,
   "id": "d56027d4-6ec9-474b-ab3f-edc86d5c02ee",
   "metadata": {},
   "outputs": [
    {
     "name": "stderr",
     "output_type": "stream",
     "text": [
      "\n",
      "KeyboardInterrupt\n",
      "\n"
     ]
    }
   ],
   "source": [
    "# 去除 -1 数据\n",
    "for col in uk_raw_data.columns:\n",
    "    uk_raw_data = (uk_raw_data[uk_raw_data[col]!=-1])\n",
    "# 去除 NaN 数据\n",
    "uk_raw_data.dropna(inplace=True)"
   ]
  },
  {
   "cell_type": "markdown",
   "id": "f494ce6f-822b-45f7-85e5-f1ed63544eaa",
   "metadata": {},
   "source": [
    "### 预处理结果"
   ]
  },
  {
   "cell_type": "code",
   "execution_count": null,
   "id": "c7f6039b-851c-4512-bc61-d7237bfad541",
   "metadata": {},
   "outputs": [],
   "source": [
    "print('数据量: %d, 特征量: %d' % uk_raw_data.shape)"
   ]
  },
  {
   "cell_type": "markdown",
   "id": "46640e7d-8809-42e1-86fb-56d4cbbf6462",
   "metadata": {
    "tags": []
   },
   "source": [
    "## 切分训练集、测试集数据"
   ]
  },
  {
   "cell_type": "code",
   "execution_count": null,
   "id": "5b1e6375-c013-4ce8-9ccb-327f518955bb",
   "metadata": {},
   "outputs": [],
   "source": [
    "from sklearn.model_selection import train_test_split"
   ]
  },
  {
   "cell_type": "code",
   "execution_count": null,
   "id": "7323b46b-fa3d-40d0-b7fe-e2886e2d226e",
   "metadata": {},
   "outputs": [],
   "source": [
    "uk_y=uk_raw_data['Accident_Severity']\n",
    "uk_x=uk_raw_data.drop(labels='Accident_Severity', axis=1)"
   ]
  },
  {
   "cell_type": "code",
   "execution_count": null,
   "id": "fd8e3ce2-97dc-4baf-b2cc-3f8d8583a4fc",
   "metadata": {},
   "outputs": [],
   "source": [
    "# 切分数据集\n",
    "X_train, X_test, y_train, y_test = train_test_split(\n",
    "    uk_x.values,\n",
    "    uk_y.values,\n",
    "    test_size=0.2,\n",
    "    random_state=1\n",
    ")\n",
    "print('(数据量, 特征量)')\n",
    "print(X_train.shape)\n",
    "print(y_train.shape)\n",
    "print(X_test.shape)\n",
    "print(y_test.shape)"
   ]
  },
  {
   "cell_type": "markdown",
   "id": "7f2be18c-a1a7-4ca7-8b2b-783badba77f1",
   "metadata": {},
   "source": [
    "## 决策树 Decision Tree"
   ]
  },
  {
   "cell_type": "code",
   "execution_count": null,
   "id": "27b8d052-098d-4303-9c2e-5d103d8825ac",
   "metadata": {},
   "outputs": [],
   "source": [
    "from sklearn.tree import DecisionTreeClassifier"
   ]
  },
  {
   "cell_type": "code",
   "execution_count": null,
   "id": "eede387b-9a2e-4232-96bd-96d342584941",
   "metadata": {},
   "outputs": [],
   "source": [
    "decision_tree1=DecisionTreeClassifier(random_state=1)\n",
    "t0=time()\n",
    "# 训练决策树模型\n",
    "decision_tree1.fit(X_train, y_train)\n",
    "print(f'训练耗时: {time()-t0:.2f}s')\n",
    "# 展示精度\n",
    "acc_dt1=decision_tree1.score(X_test, y_test)\n",
    "print(f'[Accuray]={acc_dt1*100:.2f}')"
   ]
  },
  {
   "cell_type": "markdown",
   "id": "f9a6547e-6a96-48ff-bffe-697d0e291358",
   "metadata": {},
   "source": [
    "### 获取特征重要程度"
   ]
  },
  {
   "cell_type": "code",
   "execution_count": null,
   "id": "f14daf91-9e31-45af-9c58-b6adb5fc13f4",
   "metadata": {},
   "outputs": [],
   "source": [
    "importance_figure=plt.figure(figsize=(10, 18))\n",
    "feat_importances = pd.DataFrame(\n",
    "    {\n",
    "        'feature': uk_x.columns,\n",
    "        'importance': decision_tree1.feature_importances_, \n",
    "    }\n",
    ")\n",
    "feat_importances.sort_values(by='importance', ascending=False, inplace=True)\n",
    "sns.barplot(\n",
    "    data=feat_importances,\n",
    "    x='importance',\n",
    "    y='feature',\n",
    "    orient='h',\n",
    ")"
   ]
  },
  {
   "cell_type": "code",
   "execution_count": null,
   "id": "299e6c33-81a4-4d2b-b070-3a27c4947e4f",
   "metadata": {},
   "outputs": [],
   "source": [
    "importance_figure.savefig('feature_importance_0118.png', dpi=200, pad_inches=0.5, bbox_inches='tight')"
   ]
  },
  {
   "cell_type": "markdown",
   "id": "66ad4579-38dc-4950-a300-1620806f2208",
   "metadata": {
    "tags": []
   },
   "source": [
    "# 筛选特征\n",
    "- 根据决策树的 feat_importance 筛选部分结果执行进一步地机器学习\n",
    "    - 01-18 16:52\n",
    "        - Latitude\n",
    "        - Longitude\n",
    "        - Engine_Capacity_(CC)\n",
    "        - Age_of_Driver\n",
    "        - Age_of_Vehicle\n",
    "        - Day_of_Week\n",
    "- 查看特征相关性"
   ]
  },
  {
   "cell_type": "markdown",
   "id": "8f418b3b-8b9f-4107-970b-ec6ebd178a4d",
   "metadata": {},
   "source": [
    "## 查看相关性"
   ]
  },
  {
   "cell_type": "code",
   "execution_count": null,
   "id": "afa3eb68-46ea-4cb2-bab9-55fd0c1ee0fa",
   "metadata": {},
   "outputs": [],
   "source": [
    "feat_correlation=uk_x.corr()\n",
    "corr_heatmap=plt.figure(figsize=(20, 10))\n",
    "sns.heatmap(feat_correlation)"
   ]
  },
  {
   "cell_type": "code",
   "execution_count": null,
   "id": "ee326d45-3343-4abe-86a5-88e4c59882af",
   "metadata": {},
   "outputs": [],
   "source": [
    "corr_heatmap.savefig('correlation-heatmap-0118.png', dpi=200, pad_inches=0.5, bbox_inches='tight')"
   ]
  },
  {
   "cell_type": "markdown",
   "id": "078f644f-93e8-4afb-9f18-83eeb5cc48a1",
   "metadata": {},
   "source": [
    "## 筛选特征"
   ]
  },
  {
   "cell_type": "code",
   "execution_count": null,
   "id": "2e5327a9-3d34-49de-9129-97cf05de2607",
   "metadata": {},
   "outputs": [],
   "source": [
    "# ①\n",
    "uk_data=uk_raw_data.copy()\n",
    "uk_data=uk_data[\n",
    "    [\n",
    "        'Accident_Severity',\n",
    "        'Latitude',\n",
    "        'Longitude',\n",
    "        'Engine_Capacity_(CC)',\n",
    "        'Age_of_Driver',\n",
    "        'Age_of_Vehicle',\n",
    "        'Day_of_Week'\n",
    "    ]\n",
    "]"
   ]
  },
  {
   "cell_type": "code",
   "execution_count": null,
   "id": "bdc8f2db-a750-42a3-8e10-3c36dfd2246a",
   "metadata": {},
   "outputs": [],
   "source": [
    "# ②\n",
    "uk_data=uk_raw_data.copy()\n",
    "uk_data=uk_data[\n",
    "    [\n",
    "        'Accident_Severity',\n",
    "        'Longitude',\n",
    "        'Latitude',\n",
    "        'Engine_Capacity_(CC)',\n",
    "        'Age_of_Vehicle',\n",
    "        'Day_of_Week',\n",
    "        'Vehicle_Type',\n",
    "        'Vehicle_Manoeuvre',\n",
    "        'Junction_Detail',\n",
    "        '1st_Road_Class',\n",
    "        'Junction_Location',\n",
    "    ]\n",
    "]"
   ]
  },
  {
   "cell_type": "code",
   "execution_count": null,
   "id": "adbcb6ef-9200-4ec4-a3ec-e6a255deb56e",
   "metadata": {},
   "outputs": [],
   "source": [
    "print('数据量: %d, 特征量: %d' % uk_data.shape)"
   ]
  },
  {
   "cell_type": "markdown",
   "id": "22f8c2b4-2245-4a01-8bc0-ddbf7cb6dc6b",
   "metadata": {},
   "source": [
    "# 再次机器学习"
   ]
  },
  {
   "cell_type": "code",
   "execution_count": null,
   "id": "4c44ee02-39f2-4f9f-acec-7f91e2e9193b",
   "metadata": {},
   "outputs": [],
   "source": [
    "from sklearn.metrics import confusion_matrix\n",
    "from sklearn.metrics import accuracy_score\n",
    "from sklearn.metrics import classification_report"
   ]
  },
  {
   "cell_type": "markdown",
   "id": "1be8ff6f-d2c3-4f09-b0a3-c8baadde15ba",
   "metadata": {},
   "source": [
    "## 数据处理"
   ]
  },
  {
   "cell_type": "code",
   "execution_count": null,
   "id": "0caa3f34-b9de-4511-9116-e22d59476e82",
   "metadata": {},
   "outputs": [],
   "source": [
    "y=uk_data['Accident_Severity']\n",
    "X=uk_data.drop(labels='Accident_Severity', axis=1)"
   ]
  },
  {
   "cell_type": "code",
   "execution_count": null,
   "id": "ee569e54-6e94-4652-8783-3f2408b7e6bf",
   "metadata": {},
   "outputs": [],
   "source": [
    "# 切分训练集、测试集\n",
    "X_train, X_test, y_train, y_test = train_test_split(\n",
    "    X.values,\n",
    "    y.values,\n",
    "    test_size=0.2,\n",
    "    random_state=1\n",
    ")\n",
    "print('(数据量, 特征量)')\n",
    "print(X_train.shape)\n",
    "print(y_train.shape)\n",
    "print(X_test.shape)\n",
    "print(y_test.shape)"
   ]
  },
  {
   "cell_type": "markdown",
   "id": "145cc482-058d-45b1-868f-99fe3bac7a08",
   "metadata": {},
   "source": [
    "## Logistic Regression 逻辑回归"
   ]
  },
  {
   "cell_type": "code",
   "execution_count": null,
   "id": "f20593af-cc92-4cfb-af8a-b17a97276d09",
   "metadata": {},
   "outputs": [],
   "source": [
    "from sklearn.linear_model import LogisticRegressionCV"
   ]
  },
  {
   "cell_type": "code",
   "execution_count": null,
   "id": "f8f11e35-347f-4f5d-8f4c-db1ccbdc45e3",
   "metadata": {},
   "outputs": [],
   "source": [
    "lr_cv=LogisticRegressionCV(cv=3, random_state=1, multi_class='multinomial')\n",
    "t0=time()\n",
    "lr_cv.fit(X_train, y_train)\n",
    "print(f'训练耗时: {time()-t0:.2f}s')\n",
    "print(f'[Accuracy]={accuracy_score(y_test, lr_cv.predict(X_test))*100:.2f}')"
   ]
  },
  {
   "cell_type": "markdown",
   "id": "1f562563-26b0-49cb-ba84-a12f65670dbd",
   "metadata": {
    "tags": []
   },
   "source": [
    "## Decision Tree 决策树"
   ]
  },
  {
   "cell_type": "markdown",
   "id": "b8730943-9fe0-4d60-ac96-292c27365b93",
   "metadata": {
    "tags": []
   },
   "source": [
    "### 默认参数"
   ]
  },
  {
   "cell_type": "code",
   "execution_count": null,
   "id": "24ddbebf-0660-4e07-a3bb-e4544ea78552",
   "metadata": {},
   "outputs": [],
   "source": [
    "from sklearn.tree import DecisionTreeClassifier"
   ]
  },
  {
   "cell_type": "code",
   "execution_count": null,
   "id": "3a846a32-8fea-46a2-8bf4-e05ea0bc17d1",
   "metadata": {},
   "outputs": [],
   "source": [
    "decision_tree=DecisionTreeClassifier(min_samples_leaf=16, max_features=4)\n",
    "t0=time()\n",
    "decision_tree.fit(X_train, y_train)\n",
    "print(f'训练耗时: {time()-t0:.2f}s')\n",
    "acc_decision_tree=decision_tree.score(X_test, y_test)\n",
    "print(f\"[Accuracy]={acc_decision_tree*100:.2f}\")"
   ]
  },
  {
   "cell_type": "markdown",
   "id": "d82f5028-fb24-4bc2-8393-0d187a053469",
   "metadata": {
    "tags": []
   },
   "source": [
    "### 参数搜索"
   ]
  },
  {
   "cell_type": "code",
   "execution_count": null,
   "id": "0fd66ce4-67d5-4661-ae47-f99b61ae4027",
   "metadata": {},
   "outputs": [],
   "source": [
    "from sklearn.model_selection import GridSearchCV"
   ]
  },
  {
   "cell_type": "code",
   "execution_count": null,
   "id": "80926264-9048-4698-b527-9ab3e7bd71dc",
   "metadata": {},
   "outputs": [],
   "source": [
    "param_grid={\n",
    "    'min_samples_leaf': [1, 10, 100, 1000],\n",
    "    'min_samples_split': [1, 10, 100, 1000],\n",
    "    # 'max_depth': [1, 10, 100],\n",
    "    # 'max_features': list(range(1, 7)),\n",
    "}"
   ]
  },
  {
   "cell_type": "code",
   "execution_count": null,
   "id": "21365d80-2ac7-4680-9119-f451da5afd26",
   "metadata": {},
   "outputs": [],
   "source": [
    "grid_search=GridSearchCV(\n",
    "    estimator=DecisionTreeClassifier(),\n",
    "    param_grid=param_grid,\n",
    "    scoring='accuracy',\n",
    "    n_jobs=-1,\n",
    "    cv=3,\n",
    "    verbose=2\n",
    ")\n",
    "t0=time()\n",
    "grid_search.fit(X_train, y_train)\n",
    "print(f'搜索耗时: {time()-t0:.2f}s')"
   ]
  },
  {
   "cell_type": "code",
   "execution_count": null,
   "id": "d0384f49-149b-4f11-8381-1d39814fce1c",
   "metadata": {},
   "outputs": [],
   "source": [
    "print(grid_search.best_params_)\n",
    "print(grid_search.best_score_)"
   ]
  },
  {
   "cell_type": "markdown",
   "id": "132073b2-8fde-456c-8233-80da488197fe",
   "metadata": {},
   "source": [
    "- 01-18 17:41 -> {'max_depth': 1, 'min_samples_leaf': 100, 'min_samples_split': 10}\n",
    "acc=0.8825635788369205\n",
    "\n",
    "- 01-18 23:36 -> {'min_samples_leaf': 1000, 'min_samples_split': 10}\n",
    "acc=0.8853849598909287"
   ]
  },
  {
   "cell_type": "code",
   "execution_count": null,
   "id": "04fab825-8c3f-4228-a527-05ccfa578914",
   "metadata": {},
   "outputs": [],
   "source": [
    "y_pred=grid_search.best_estimator_.predict(X_test)\n",
    "print(f'[Accuracy]={accuracy_score(y_test, y_pred)*100:.2f}')"
   ]
  },
  {
   "cell_type": "markdown",
   "id": "4aaddfd2-d971-4fbc-9d6c-bee1527fe82f",
   "metadata": {},
   "source": [
    "## 集成学习"
   ]
  },
  {
   "cell_type": "markdown",
   "id": "b19a20a6-86f4-4b8f-a997-e1c9223e2436",
   "metadata": {},
   "source": [
    "### 准备数据"
   ]
  },
  {
   "cell_type": "code",
   "execution_count": null,
   "id": "33b74e65-92b3-45e6-a3bc-324aa5ada611",
   "metadata": {},
   "outputs": [],
   "source": [
    "from sklearn.model_selection import train_test_split"
   ]
  },
  {
   "cell_type": "code",
   "execution_count": null,
   "id": "60079779-59bd-47f1-a6be-6f175cb29871",
   "metadata": {},
   "outputs": [],
   "source": [
    "uk_ensemble=uk_raw_data.copy()"
   ]
  },
  {
   "cell_type": "code",
   "execution_count": null,
   "id": "0a9f0f27-87d2-4e3e-84c3-995f2829b654",
   "metadata": {},
   "outputs": [],
   "source": [
    "uk_ensemble_y=uk_ensemble['Accident_Severity']\n",
    "uk_ensemble_x=uk_ensemble.drop(labels='Accident_Severity', axis=1)"
   ]
  },
  {
   "cell_type": "code",
   "execution_count": null,
   "id": "c6586f4a-3f7f-4b08-86a6-f2f53a19c2b1",
   "metadata": {},
   "outputs": [],
   "source": [
    "# 切分数据集\n",
    "X_train, X_test, y_train, y_test = train_test_split(\n",
    "    uk_ensemble_x.values,\n",
    "    uk_ensemble_y.values,\n",
    "    test_size=0.2,\n",
    "    random_state=1,\n",
    ")\n",
    "print('(数据量, 特征量)')\n",
    "print(X_train.shape)\n",
    "print(y_train.shape)\n",
    "print(X_test.shape)\n",
    "print(y_test.shape)"
   ]
  },
  {
   "cell_type": "markdown",
   "id": "c3dee66a-f985-4e06-87d0-3161452f11b9",
   "metadata": {
    "tags": []
   },
   "source": [
    "### Bagging Method"
   ]
  },
  {
   "cell_type": "code",
   "execution_count": null,
   "id": "feb2e7e4-d4bd-48c9-81b7-a646ef37e771",
   "metadata": {},
   "outputs": [],
   "source": [
    "from sklearn.ensemble import BaggingClassifier"
   ]
  },
  {
   "cell_type": "markdown",
   "id": "fda5e807-31e5-4489-870d-cbdc39c3a9f8",
   "metadata": {},
   "source": [
    "#### DecisionTree Bagging"
   ]
  },
  {
   "cell_type": "code",
   "execution_count": null,
   "id": "f5d1864a-f56a-4978-9c7d-46f605684c02",
   "metadata": {},
   "outputs": [],
   "source": [
    "bagging_dt=BaggingClassifier(\n",
    "    base_estimator=DecisionTreeClassifier(),\n",
    "    n_estimators=20\n",
    ")"
   ]
  },
  {
   "cell_type": "code",
   "execution_count": null,
   "id": "405d8dd8-f68b-4169-9419-1436771319cf",
   "metadata": {},
   "outputs": [],
   "source": [
    "t0=time()\n",
    "bagging_dt.fit(X_train, y_train)\n",
    "print(f\"Decision Tree Bagging 训练耗时: {time()-t0:.2f}s\")"
   ]
  },
  {
   "cell_type": "code",
   "execution_count": null,
   "id": "7343f5bc-2693-4191-849f-c9b15650c229",
   "metadata": {},
   "outputs": [],
   "source": [
    "acc_bagging_dt=accuracy_score(y_test, bagging_dt.predict(X_test))\n",
    "print(f'[Accuracy]={acc_bagging_dt*100:.2f}')"
   ]
  },
  {
   "cell_type": "markdown",
   "id": "0bb6b02d-a9ba-4f9e-9f6c-261d2bf04caa",
   "metadata": {},
   "source": [
    "#### Logistic Regression Bagging"
   ]
  },
  {
   "cell_type": "code",
   "execution_count": null,
   "id": "9f0473a9-0826-4806-8154-5d0982708c78",
   "metadata": {},
   "outputs": [],
   "source": [
    "from sklearn.linear_model import LogisticRegression"
   ]
  },
  {
   "cell_type": "code",
   "execution_count": null,
   "id": "d7dc79a6-5915-4b9f-a0b5-6d421b94c2a2",
   "metadata": {},
   "outputs": [],
   "source": [
    "bagging_lr=BaggingClassifier(\n",
    "    base_estimator=LogisticRegression(),\n",
    "    n_estimators=20\n",
    ")"
   ]
  },
  {
   "cell_type": "code",
   "execution_count": null,
   "id": "d69513ac-cc21-4599-804b-e20d7ff33eec",
   "metadata": {},
   "outputs": [],
   "source": [
    "t0=time()\n",
    "bagging_lr.fit(X_train, y_train)\n",
    "print(f\"Logistic Regression Bagging 训练耗时: {time()-t0:.2f}s\")"
   ]
  },
  {
   "cell_type": "code",
   "execution_count": null,
   "id": "77aea67c-a7e5-47ab-b836-aa68806a4c89",
   "metadata": {},
   "outputs": [],
   "source": [
    "acc_bagging_lr=accuracy_score(y_test, bagging_lr.predict(X_test))\n",
    "print(f'[Accuracy]={acc_bagging_lr*100:.2f}')"
   ]
  },
  {
   "cell_type": "markdown",
   "id": "16bd09c9-7903-4847-bc65-57f6645d7a18",
   "metadata": {
    "jp-MarkdownHeadingCollapsed": true,
    "tags": []
   },
   "source": [
    "### AdaBoost"
   ]
  },
  {
   "cell_type": "code",
   "execution_count": null,
   "id": "161b83a2-3a01-4abb-a9a0-ed133ccea7b2",
   "metadata": {},
   "outputs": [],
   "source": [
    "from sklearn.ensemble import AdaBoostClassifier\n",
    "from sklearn.tree import DecisionTreeClassifier"
   ]
  },
  {
   "cell_type": "code",
   "execution_count": null,
   "id": "90a3bbd8-6add-464c-998b-f7dce82e3801",
   "metadata": {},
   "outputs": [],
   "source": [
    "ada=AdaBoostClassifier(\n",
    "    base_estimator=DecisionTreeClassifier(\n",
    "        max_depth=10,\n",
    "        min_samples_leaf=100,\n",
    "        min_samples_split=10\n",
    "    ),\n",
    "    n_estimators=100,\n",
    "    algorithm=\"SAMME\",\n",
    "    # learning_rate=1.2,\n",
    "    random_state=1\n",
    ")"
   ]
  },
  {
   "cell_type": "code",
   "execution_count": null,
   "id": "f892a875-97d6-49d2-9825-2145a94b68ed",
   "metadata": {},
   "outputs": [],
   "source": [
    "t0=time()\n",
    "ada.fit(X_train, y_train)\n",
    "print(f'Adaboost 训练耗时: {time()-t0:.2f}s')"
   ]
  },
  {
   "cell_type": "code",
   "execution_count": null,
   "id": "125eb6fc-7d80-4ba8-988f-b293221c7ed5",
   "metadata": {},
   "outputs": [],
   "source": [
    "ada_test_acc=[]\n",
    "for pred in ada.staged_predict(X_test):\n",
    "    ada_test_acc.append(accuracy_score(y_test, pred))\n",
    "print(f'number of estimator = {len(ada.estimators_)}')\n",
    "print(f'average acc={(sum(ada_test_acc)/len(ada_test_acc))*100:.2f}')"
   ]
  },
  {
   "cell_type": "code",
   "execution_count": null,
   "id": "d99905fd-9621-4bf8-8405-322661a8cce3",
   "metadata": {},
   "outputs": [],
   "source": [
    "sns.lineplot(np.array(ada_test_acc))"
   ]
  },
  {
   "cell_type": "markdown",
   "id": "15d8398f-bc42-45d1-a74c-76cb5098d5cc",
   "metadata": {
    "jp-MarkdownHeadingCollapsed": true,
    "tags": []
   },
   "source": [
    "### GradientBoosting"
   ]
  },
  {
   "cell_type": "code",
   "execution_count": null,
   "id": "707e000a-ade7-4b8c-adb6-877f7eaf29a6",
   "metadata": {},
   "outputs": [],
   "source": [
    "from sklearn.ensemble import GradientBoostingClassifier"
   ]
  },
  {
   "cell_type": "code",
   "execution_count": null,
   "id": "a493d5db-66dd-4e5e-b00c-55e7889bb844",
   "metadata": {},
   "outputs": [],
   "source": [
    "gb=GradientBoostingClassifier(\n",
    "    n_estimators=100,\n",
    "    learning_rate=1.0,\n",
    "    max_depth=10,\n",
    "    min_samples_leaf=100,\n",
    "    min_samples_split=10,\n",
    "    random_state=1,\n",
    ")"
   ]
  },
  {
   "cell_type": "code",
   "execution_count": null,
   "id": "f7aab81b-0282-4769-a833-93b0988606a5",
   "metadata": {},
   "outputs": [],
   "source": [
    "t0=time()\n",
    "gb.fit(X_train, y_train)\n",
    "print(f'GradientBoosting 训练耗时: {time()-t0:.2f}s')"
   ]
  },
  {
   "cell_type": "code",
   "execution_count": null,
   "id": "5519472e-04de-4720-bff2-bd946ebdf423",
   "metadata": {},
   "outputs": [],
   "source": [
    "gb_test_acc=[]\n",
    "for pred in gb.staged_predict(X_test):\n",
    "    gb_test_acc.append(accuracy_score(y_test, pred))\n",
    "print(f'number of estimator = {len(gb.estimators_)}')\n",
    "print(f'average acc={(sum(gb_test_acc)/len(gb_test_acc))*100:.2f}')"
   ]
  },
  {
   "cell_type": "code",
   "execution_count": null,
   "id": "5535a79e-d33a-4a96-9a97-e717d4aa6c53",
   "metadata": {},
   "outputs": [],
   "source": [
    "sns.lineplot(np.array(gb_test_acc))"
   ]
  },
  {
   "cell_type": "markdown",
   "id": "8e2d8fc0-4028-434b-b4f0-b2a3a015ef54",
   "metadata": {
    "jp-MarkdownHeadingCollapsed": true,
    "tags": []
   },
   "source": [
    "### HistGradientBoosting"
   ]
  },
  {
   "cell_type": "code",
   "execution_count": null,
   "id": "87ae25a5-caf6-4cd3-b54e-a26a663a1ebf",
   "metadata": {},
   "outputs": [],
   "source": [
    "from sklearn.ensemble import HistGradientBoostingClassifier"
   ]
  },
  {
   "cell_type": "code",
   "execution_count": null,
   "id": "7fa26f99-277f-4f2c-b96a-264c734a7069",
   "metadata": {},
   "outputs": [],
   "source": [
    "hgb=HistGradientBoostingClassifier(\n",
    "    max_iter=100,\n",
    "    loss='categorical_crossentropy',\n",
    "    learning_rate=0.6,\n",
    "    max_leaf_nodes=None,\n",
    "    scoring='accuracy',\n",
    "    n_iter_no_change=10,\n",
    "    tol=1e-6,\n",
    "    verbose=1,\n",
    "    random_state=1,\n",
    ")"
   ]
  },
  {
   "cell_type": "code",
   "execution_count": null,
   "id": "4dcb8f75-a7c1-4df0-91d1-8538f4649d9b",
   "metadata": {},
   "outputs": [],
   "source": [
    "t0=time()\n",
    "hgb.fit(X_train, y_train)\n",
    "print(f'HistGradientBoosting 训练耗时: {time()-t0:.2f}s')"
   ]
  },
  {
   "cell_type": "code",
   "execution_count": null,
   "id": "dedd5196-c3eb-466d-b42b-2767db13d351",
   "metadata": {},
   "outputs": [],
   "source": [
    "hgb_test_acc=[]\n",
    "for pred in hgb.staged_predict(X_test):\n",
    "    hgb_test_acc.append(accuracy_score(y_test, pred))\n",
    "print(f'number of estimator = {len(gb.estimators_)}')\n",
    "print(f'average acc={(sum(hgb_test_acc)/len(hgb_test_acc))*100:.2f}')\n",
    "print(f'top acc={max(hgb_test_acc)*100:.2f}')"
   ]
  },
  {
   "cell_type": "code",
   "execution_count": null,
   "id": "92715ba3-51f0-4ef2-95a6-d23ef01ab39c",
   "metadata": {},
   "outputs": [],
   "source": [
    "sns.lineplot(np.array(hgb_test_acc))"
   ]
  },
  {
   "cell_type": "markdown",
   "id": "37e3c16e-3df1-4bf6-a682-7b8439fec30d",
   "metadata": {},
   "source": [
    "### Random Forest 随机森林"
   ]
  },
  {
   "cell_type": "code",
   "execution_count": null,
   "id": "f0919bbd-caff-4ce6-89ee-333bef0255c9",
   "metadata": {},
   "outputs": [],
   "source": [
    "from sklearn.ensemble import RandomForestClassifier"
   ]
  },
  {
   "cell_type": "code",
   "execution_count": null,
   "id": "37dd58f5-974f-4324-a093-acd3adff4623",
   "metadata": {},
   "outputs": [],
   "source": [
    "rf=RandomForestClassifier()"
   ]
  },
  {
   "cell_type": "code",
   "execution_count": null,
   "id": "7c272e07-e120-49d9-bcff-1d8520be45f1",
   "metadata": {},
   "outputs": [],
   "source": [
    "t0=time()\n",
    "rf.fit(X_train, y_train)\n",
    "print(f'随机森林训练耗时: {time()-t0:.2f}s')"
   ]
  },
  {
   "cell_type": "code",
   "execution_count": null,
   "id": "157b1176-3c39-43e6-a253-c370560046a3",
   "metadata": {},
   "outputs": [],
   "source": [
    "print(f'[Accuracy]={accuracy_score(y_test, rf.predict(X_test))*100:.2f}')"
   ]
  },
  {
   "cell_type": "code",
   "execution_count": null,
   "id": "48ce6d29-ed73-497d-9b4b-3ae2e128afa2",
   "metadata": {},
   "outputs": [],
   "source": [
    "# 展示特征重要程度\n",
    "importance_figure=plt.figure()\n",
    "feat_importances = pd.DataFrame(\n",
    "    {\n",
    "        'feature': X.columns,\n",
    "        'importance': rf.feature_importances_, \n",
    "    }\n",
    ")\n",
    "feat_importances.sort_values(by='importance', ascending=False, inplace=True)\n",
    "sns.barplot(\n",
    "    data=feat_importances,\n",
    "    x='importance',\n",
    "    y='feature',\n",
    "    orient='h'\n",
    ")"
   ]
  },
  {
   "cell_type": "markdown",
   "id": "e8d3bb0b-317d-4da5-8163-0fbbba8cb18a",
   "metadata": {
    "tags": []
   },
   "source": [
    "# 神经网络"
   ]
  },
  {
   "cell_type": "code",
   "execution_count": null,
   "id": "f1d46b18-3d6a-4d13-9033-1c64fc70efdc",
   "metadata": {},
   "outputs": [],
   "source": [
    "from sklearn.model_selection import train_test_split"
   ]
  },
  {
   "cell_type": "code",
   "execution_count": null,
   "id": "32985b16-fbbc-4c90-bb9b-94d8f7895554",
   "metadata": {},
   "outputs": [],
   "source": [
    "uk_mlp=uk_raw_data.copy()"
   ]
  },
  {
   "cell_type": "code",
   "execution_count": null,
   "id": "03ea9864-4926-4c9f-a249-5456173a5d8e",
   "metadata": {},
   "outputs": [],
   "source": [
    "uk_mlp_y=uk_ensemble['Accident_Severity']\n",
    "uk_mlp_x=uk_ensemble.drop(labels='Accident_Severity', axis=1)"
   ]
  },
  {
   "cell_type": "code",
   "execution_count": null,
   "id": "625cd73f-b6da-4fc5-bbfd-c65dd0245084",
   "metadata": {},
   "outputs": [],
   "source": [
    "# 切分数据集\n",
    "X_train, X_test, y_train, y_test = train_test_split(\n",
    "    uk_mlp_x.values,\n",
    "    uk_mlp_y.values,\n",
    "    test_size=0.2,\n",
    "    random_state=1,\n",
    ")\n",
    "print('(数据量, 特征量)')\n",
    "print(X_train.shape)\n",
    "print(y_train.shape)\n",
    "print(X_test.shape)\n",
    "print(y_test.shape)"
   ]
  },
  {
   "cell_type": "code",
   "execution_count": null,
   "id": "065fbcb7-d4a5-40f5-a5b9-1139c953d231",
   "metadata": {},
   "outputs": [],
   "source": [
    "from sklearn.decomposition import PCA"
   ]
  },
  {
   "cell_type": "code",
   "execution_count": null,
   "id": "84ef34b7-295d-4639-b46e-2e49ba5d556b",
   "metadata": {},
   "outputs": [],
   "source": [
    "pca=PCA(n_components=6)\n",
    "pca.fit(X_train)\n",
    "X_train_pca=pca.transform(X_train)\n",
    "X_test_pca=pca.transform(X_test)"
   ]
  },
  {
   "cell_type": "markdown",
   "id": "8130fe3e-6cc7-4a9f-b43d-57972378ae76",
   "metadata": {},
   "source": [
    "## MLP"
   ]
  },
  {
   "cell_type": "code",
   "execution_count": null,
   "id": "2b411d5b-8134-42e6-ba9b-2da86e777339",
   "metadata": {},
   "outputs": [],
   "source": [
    "from sklearn.preprocessing import StandardScaler"
   ]
  },
  {
   "cell_type": "code",
   "execution_count": null,
   "id": "32069ab7-e430-4367-bc53-046a88d8374a",
   "metadata": {},
   "outputs": [],
   "source": [
    "scaler=StandardScaler()\n",
    "scaler.fit(X_train_pca)\n",
    "X_train_scaled=scaler.transform(X_train_pca)\n",
    "X_test_scaled=scaler.transform(X_test_pca)"
   ]
  },
  {
   "cell_type": "code",
   "execution_count": null,
   "id": "dc73025b-7a84-4837-955d-318d848c1728",
   "metadata": {},
   "outputs": [],
   "source": [
    "X_train_scaled.shape"
   ]
  },
  {
   "cell_type": "code",
   "execution_count": null,
   "id": "4fee16d7-b542-4003-91c2-77aa23d60af9",
   "metadata": {},
   "outputs": [],
   "source": [
    "y_train_scaled.shape"
   ]
  },
  {
   "cell_type": "code",
   "execution_count": null,
   "id": "f8a5c525-6967-4db7-abdc-408f5d5f2a94",
   "metadata": {},
   "outputs": [],
   "source": [
    "from sklearn.neural_network import MLPClassifier"
   ]
  },
  {
   "cell_type": "code",
   "execution_count": null,
   "id": "95d42766-e183-42f5-a5bd-69d2ac568c46",
   "metadata": {},
   "outputs": [],
   "source": [
    "mlp=MLPClassifier(\n",
    "    hidden_layer_sizes=(100, 25, 6),\n",
    "    solver='sgd',\n",
    "    learning_rate_init=0.5,\n",
    "    learning_rate='adaptive',\n",
    "    verbose=True,\n",
    "    max_iter=1000,\n",
    ")"
   ]
  },
  {
   "cell_type": "code",
   "execution_count": null,
   "id": "cc644226-9080-44ac-bc3f-a4669bae3eee",
   "metadata": {
    "tags": []
   },
   "outputs": [],
   "source": [
    "t0=time()\n",
    "mlp.fit(X_train_scaled, y_train)\n",
    "print(f'MLP 训练耗时: {time()-t0:.2f}s')"
   ]
  },
  {
   "cell_type": "code",
   "execution_count": null,
   "id": "233ea182-f373-418b-bdd8-54fc7c54f02a",
   "metadata": {},
   "outputs": [],
   "source": [
    "sns.lineplot(mlp.loss_curve_)"
   ]
  },
  {
   "cell_type": "code",
   "execution_count": null,
   "id": "ab36d818-7674-4ce6-8f08-edfcb8e98c8e",
   "metadata": {},
   "outputs": [],
   "source": [
    "acc_mlp=accuracy_score(y_test, mlp.predict(X_test_scaled))\n",
    "print(f'[Accuracy]={acc_mlp*100:.2f}')"
   ]
  },
  {
   "cell_type": "markdown",
   "id": "94da40e4-7487-4bec-907e-515f4f6fca84",
   "metadata": {},
   "source": [
    "## MLP with Selected Features"
   ]
  },
  {
   "cell_type": "code",
   "execution_count": null,
   "id": "0ff7e4de-a7aa-4ddf-977d-85274c6ddc3a",
   "metadata": {},
   "outputs": [],
   "source": [
    "mlp_data=uk_raw_data.copy()\n",
    "mlp_data=mlp_data[\n",
    "    [\n",
    "        'Accident_Severity',\n",
    "        'Latitude',\n",
    "        'Longitude',\n",
    "        'Engine_Capacity_(CC)',\n",
    "        'Age_of_Driver',\n",
    "        'Age_of_Vehicle',\n",
    "        'Day_of_Week'\n",
    "    ]\n",
    "]"
   ]
  },
  {
   "cell_type": "code",
   "execution_count": null,
   "id": "e7dbcc36-ec4c-4608-b775-7106f94f53df",
   "metadata": {},
   "outputs": [],
   "source": [
    "mlp_y=mlp_data['Accident_Severity']\n",
    "mlp_x=mlp_data.drop(labels='Accident_Severity', axis=1)"
   ]
  },
  {
   "cell_type": "code",
   "execution_count": null,
   "id": "cc330859-642a-412b-9800-fe3d6e9f0d10",
   "metadata": {},
   "outputs": [],
   "source": [
    "mlp_x.describe()"
   ]
  },
  {
   "cell_type": "code",
   "execution_count": null,
   "id": "c76b6f93-f1d5-4a96-85de-b7b1d1c9078c",
   "metadata": {},
   "outputs": [],
   "source": [
    "X_train, X_test, y_train, y_test = train_test_split(\n",
    "    mlp_x,\n",
    "    mlp_y,\n",
    "    test_size=0.3,\n",
    "    random_state=233\n",
    ")"
   ]
  },
  {
   "cell_type": "code",
   "execution_count": null,
   "id": "f2b81d42-0376-48eb-86e7-522c99b32ffd",
   "metadata": {},
   "outputs": [],
   "source": [
    "from sklearn.preprocessing import StandardScaler"
   ]
  },
  {
   "cell_type": "code",
   "execution_count": null,
   "id": "fe4ac0f3-0cd9-4ab9-8625-501b8ec70b4a",
   "metadata": {},
   "outputs": [],
   "source": [
    "scaler=StandardScaler()\n",
    "scaler.fit(X_train)\n",
    "X_train=scaler.transform(X_train)\n",
    "X_test=scaler.transform(X_test)"
   ]
  },
  {
   "cell_type": "code",
   "execution_count": null,
   "id": "aff3a3d7-6d93-481a-805f-a5d01638d1af",
   "metadata": {},
   "outputs": [],
   "source": [
    "X_train.shape"
   ]
  },
  {
   "cell_type": "code",
   "execution_count": null,
   "id": "81d638e3-819b-4e64-b488-ff20bd353f3e",
   "metadata": {},
   "outputs": [],
   "source": [
    "y_train.shape"
   ]
  },
  {
   "cell_type": "code",
   "execution_count": null,
   "id": "81845a1e-4299-4221-a5d0-e5e97eaef113",
   "metadata": {},
   "outputs": [],
   "source": [
    "from sklearn.neural_network import MLPClassifier"
   ]
  },
  {
   "cell_type": "code",
   "execution_count": null,
   "id": "81ccfb0a-003c-4717-ba86-70c2a4f2c594",
   "metadata": {},
   "outputs": [],
   "source": [
    "mlp=MLPClassifier(\n",
    "    hidden_layer_sizes=(10, 5, 3),\n",
    "    solver='sgd',\n",
    "    learning_rate_init=0.3,\n",
    "    learning_rate='adaptive',\n",
    "    verbose=True,\n",
    "    max_iter=1000,\n",
    ")"
   ]
  },
  {
   "cell_type": "code",
   "execution_count": null,
   "id": "512fa390-db63-442b-ba20-e282dfe2a87c",
   "metadata": {
    "tags": []
   },
   "outputs": [],
   "source": [
    "t0=time()\n",
    "mlp.fit(X_train, y_train)\n",
    "print(f'MLP 训练耗时: {time()-t0:.2f}s')"
   ]
  },
  {
   "cell_type": "code",
   "execution_count": null,
   "id": "adf848f8-b29f-4b84-9479-d7f4c4bce65c",
   "metadata": {},
   "outputs": [],
   "source": [
    "acc_mlp=accuracy_score(y_test, mlp.predict(X_test_scaled))\n",
    "print(f'[Accuracy]={acc_mlp*100:.2f}')"
   ]
  },
  {
   "cell_type": "code",
   "execution_count": null,
   "id": "4e2e2f55-927f-4169-a07a-a298394fbeb1",
   "metadata": {},
   "outputs": [],
   "source": [
    "sns.lineplot(mlp.loss_curve_)"
   ]
  },
  {
   "cell_type": "code",
   "execution_count": null,
   "id": "5b6dfe81-3203-40e6-89a6-9d09de297ad8",
   "metadata": {},
   "outputs": [],
   "source": []
  },
  {
   "cell_type": "code",
   "execution_count": null,
   "id": "6ee2e38a-5991-4312-ae70-9a3c7c139a54",
   "metadata": {},
   "outputs": [],
   "source": []
  },
  {
   "cell_type": "markdown",
   "id": "b4dd528a-49b4-42b0-a0ae-347ce1ebca2b",
   "metadata": {},
   "source": [
    "# extra"
   ]
  },
  {
   "cell_type": "markdown",
   "id": "f1c0ab04-cec3-4215-8524-505d98aef647",
   "metadata": {},
   "source": [
    "## 数据处理"
   ]
  },
  {
   "cell_type": "code",
   "execution_count": null,
   "id": "1ccdeebc-7844-453e-a9a4-9662c2554eca",
   "metadata": {},
   "outputs": [],
   "source": [
    "extra_data=uk_data.copy()"
   ]
  },
  {
   "cell_type": "code",
   "execution_count": null,
   "id": "8923742a-1b4e-4467-8c82-c2860683b262",
   "metadata": {},
   "outputs": [],
   "source": [
    "extra_data.info()"
   ]
  },
  {
   "cell_type": "code",
   "execution_count": null,
   "id": "d209d203-1b86-4be9-a9de-1d68b0a7ccd2",
   "metadata": {},
   "outputs": [],
   "source": [
    "y=uk_data['Accident_Severity']\n",
    "X=uk_data.drop(labels=[\n",
    "    'Accident_Severity',\n",
    "    'Vehicle_Manoeuvre',\n",
    "    'Junction_Detail',\n",
    "    '1st_Road_Class',\n",
    "    'Vehicle_Type',\n",
    "    'Junction_Location',\n",
    "], axis=1)"
   ]
  },
  {
   "cell_type": "code",
   "execution_count": null,
   "id": "00a01a19-612b-4511-a8b8-8f8e38c6010b",
   "metadata": {},
   "outputs": [],
   "source": [
    "# 切分训练集、测试集\n",
    "X_train, X_test, y_train, y_test = train_test_split(\n",
    "    X.values,\n",
    "    y.values,\n",
    "    test_size=0.3\n",
    ")\n",
    "print('(数据量, 特征量)')\n",
    "print(X_train.shape)\n",
    "print(y_train.shape)\n",
    "print(X_test.shape)\n",
    "print(y_test.shape)"
   ]
  },
  {
   "cell_type": "markdown",
   "id": "6dbad7e9-6da5-400a-ab50-87d43e848042",
   "metadata": {
    "tags": []
   },
   "source": [
    "## Decision Tree 决策树"
   ]
  },
  {
   "cell_type": "markdown",
   "id": "46eb1f9e-7306-4daf-bfb8-18f738095e18",
   "metadata": {
    "tags": []
   },
   "source": [
    "### 默认参数"
   ]
  },
  {
   "cell_type": "code",
   "execution_count": null,
   "id": "37135b47-1437-454c-aecf-965d0ceffaf3",
   "metadata": {},
   "outputs": [],
   "source": [
    "from sklearn.tree import DecisionTreeClassifier"
   ]
  },
  {
   "cell_type": "code",
   "execution_count": null,
   "id": "e80a3207-268e-4940-a698-752a409416af",
   "metadata": {},
   "outputs": [],
   "source": [
    "decision_tree=DecisionTreeClassifier(min_samples_leaf=16, max_features=4)\n",
    "t0=time()\n",
    "decision_tree.fit(X_train, y_train)\n",
    "print(f'训练耗时: {time()-t0:.2f}s')\n",
    "acc_decision_tree=decision_tree.score(X_test, y_test)\n",
    "print(f\"[Accuracy]={acc_decision_tree*100:.2f}\")"
   ]
  },
  {
   "cell_type": "markdown",
   "id": "d206a874-3840-4b6d-98aa-f9bcf6e67192",
   "metadata": {},
   "source": [
    "## KNN"
   ]
  },
  {
   "cell_type": "code",
   "execution_count": null,
   "id": "68f09283-71bc-40e0-b153-40ddaaec43e7",
   "metadata": {},
   "outputs": [],
   "source": [
    "from sklearn.neighbors import KNeighborsClassifier"
   ]
  },
  {
   "cell_type": "code",
   "execution_count": null,
   "id": "a63baed8-2374-479b-834f-dc44721c4470",
   "metadata": {},
   "outputs": [],
   "source": [
    "for w in ['uniform', 'distance']:\n",
    "    knn=KNeighborsClassifier(n_neighbors=3, weights=w)\n",
    "    t0=time()\n",
    "    knn.fit(X_train, y_train)\n",
    "    print(f'weight {w} -> cost {time()-t0:.2f}s')\n",
    "    print(f'[Accuracy]={knn.score(X_test, y_test)*100:.2f}')"
   ]
  },
  {
   "cell_type": "code",
   "execution_count": null,
   "id": "5ccd2cc4-d22a-46aa-a9f4-446fc9d2d087",
   "metadata": {},
   "outputs": [],
   "source": []
  },
  {
   "cell_type": "code",
   "execution_count": null,
   "id": "226d3f75-0f30-4ccf-98ec-91277e3c80ea",
   "metadata": {},
   "outputs": [],
   "source": []
  },
  {
   "cell_type": "code",
   "execution_count": null,
   "id": "ae469d84-c189-4953-b983-dda9355d7999",
   "metadata": {},
   "outputs": [],
   "source": []
  }
 ],
 "metadata": {
  "kernelspec": {
   "display_name": "machine_learning",
   "language": "python",
   "name": "machine_learning"
  },
  "language_info": {
   "codemirror_mode": {
    "name": "ipython",
    "version": 3
   },
   "file_extension": ".py",
   "mimetype": "text/x-python",
   "name": "python",
   "nbconvert_exporter": "python",
   "pygments_lexer": "ipython3",
   "version": "3.10.10"
  },
  "widgets": {
   "application/vnd.jupyter.widget-state+json": {
    "state": {},
    "version_major": 2,
    "version_minor": 0
   }
  }
 },
 "nbformat": 4,
 "nbformat_minor": 5
}
